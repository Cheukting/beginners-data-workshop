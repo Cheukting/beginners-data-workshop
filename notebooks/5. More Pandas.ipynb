{
 "cells": [
  {
   "cell_type": "markdown",
   "metadata": {
    "collapsed": false
   },
   "source": [
    "# More Pandas"
   ]
  },
  {
   "cell_type": "markdown",
   "metadata": {
    "collapsed": false
   },
   "source": [
    "***Note***: this notebook contains cell with ***a*** solution. Remember ther is not only one soltuion to a problem!  \n",
    "You will recognise these cells as they start with **# %**.  \n",
    "If you would like to see the soltion, you will have to remove the **#** (which can be done by using **Ctrl** and **?**) and run the cell. If you want to run the solution code, you will have to run the cell again."
   ]
  },
  {
   "cell_type": "markdown",
   "metadata": {
    "collapsed": false
   },
   "source": [
    ">Import pandas (with the mostly used convension seen in notebook 2).  \n",
    ">Import datetime.  \n",
    ">Import matplotlib (as shown in notebook 3.1).  \n",
    ">Add the magic comand to show the plot in jupyter notebook."
   ]
  },
  {
   "cell_type": "code",
   "execution_count": 0,
   "metadata": {
    "collapsed": false
   },
   "outputs": [
   ],
   "source": [
   ]
  },
  {
   "cell_type": "code",
   "execution_count": 1,
   "metadata": {
    "collapsed": false
   },
   "outputs": [
   ],
   "source": [
    "# %load ../solutions/05_01.py"
   ]
  },
  {
   "cell_type": "markdown",
   "metadata": {
    "collapsed": false
   },
   "source": [
    "In this notebook, we are going to use data provided by the UK government.  \n",
    "https://data.gov.uk/dataset/a59198d9-2e24-4816-be1b-c3a1efa02dda/better-training-for-safer-food    \n",
    "  \n",
    "It is provided under the Open Government Licence that you can find here: http://www.nationalarchives.gov.uk/doc/open-government-licence/version/3/"
   ]
  },
  {
   "cell_type": "markdown",
   "metadata": {
    "collapsed": false
   },
   "source": [
    ">Load the data of the year 2104 and assign it to df_2014 (path: '../data/food_training/training_2014.csv')"
   ]
  },
  {
   "cell_type": "code",
   "execution_count": 0,
   "metadata": {
    "collapsed": false
   },
   "outputs": [
   ],
   "source": [
   ]
  },
  {
   "cell_type": "code",
   "execution_count": 56,
   "metadata": {
    "collapsed": false
   },
   "outputs": [
   ],
   "source": [
    "# %load ../solutions/05_02.py"
   ]
  },
  {
   "cell_type": "markdown",
   "metadata": {
    "collapsed": false
   },
   "source": [
    ">Have a look at the first rows of df_2014"
   ]
  },
  {
   "cell_type": "code",
   "execution_count": 0,
   "metadata": {
    "collapsed": false
   },
   "outputs": [
   ],
   "source": [
   ]
  },
  {
   "cell_type": "code",
   "execution_count": 3,
   "metadata": {
    "collapsed": false
   },
   "outputs": [
    {
     "data": {
      "text/html": [
       "<div>\n",
       "<style scoped>\n",
       "    .dataframe tbody tr th:only-of-type {\n",
       "        vertical-align: middle;\n",
       "    }\n",
       "\n",
       "    .dataframe tbody tr th {\n",
       "        vertical-align: top;\n",
       "    }\n",
       "\n",
       "    .dataframe thead th {\n",
       "        text-align: right;\n",
       "    }\n",
       "</style>\n",
       "<table border=\"1\" class=\"dataframe\">\n",
       "  <thead>\n",
       "    <tr style=\"text-align: right;\">\n",
       "      <th></th>\n",
       "      <th>Unnamed: 0</th>\n",
       "      <th>Unnamed: 1</th>\n",
       "      <th>Unnamed: 2</th>\n",
       "      <th>Unnamed: 3</th>\n",
       "      <th>Unnamed: 4</th>\n",
       "      <th>Unnamed: 5</th>\n",
       "      <th>Unnamed: 6</th>\n",
       "    </tr>\n",
       "  </thead>\n",
       "  <tbody>\n",
       "    <tr>\n",
       "      <th>0</th>\n",
       "      <td>CourseName</td>\n",
       "      <td>Location</td>\n",
       "      <td>DateFrom</td>\n",
       "      <td>DateTo</td>\n",
       "      <td>Attendees</td>\n",
       "      <td>NaN</td>\n",
       "      <td>NaN</td>\n",
       "    </tr>\n",
       "    <tr>\n",
       "      <th>1</th>\n",
       "      <td>Risk Assessment (Pest)</td>\n",
       "      <td>lisbon;Portugal</td>\n",
       "      <td>2015-01-12</td>\n",
       "      <td>2015-01-16</td>\n",
       "      <td>1</td>\n",
       "      <td>NaN</td>\n",
       "      <td>NaN</td>\n",
       "    </tr>\n",
       "    <tr>\n",
       "      <th>2</th>\n",
       "      <td>Organic Farming</td>\n",
       "      <td>Bristol;</td>\n",
       "      <td>2015-01-19</td>\n",
       "      <td>2015-01-22</td>\n",
       "      <td>2</td>\n",
       "      <td>NaN</td>\n",
       "      <td>NaN</td>\n",
       "    </tr>\n",
       "    <tr>\n",
       "      <th>3</th>\n",
       "      <td>Prevention Control and Eradication of Transmis...</td>\n",
       "      <td>Ljubljana;Slovenia</td>\n",
       "      <td>2015-01-20</td>\n",
       "      <td>2015-01-23</td>\n",
       "      <td>2</td>\n",
       "      <td>NaN</td>\n",
       "      <td>NaN</td>\n",
       "    </tr>\n",
       "    <tr>\n",
       "      <th>4</th>\n",
       "      <td>Contingency Planning</td>\n",
       "      <td>Padua;</td>\n",
       "      <td>2015-01-26</td>\n",
       "      <td>2015-01-30</td>\n",
       "      <td>2</td>\n",
       "      <td>NaN</td>\n",
       "      <td>NaN</td>\n",
       "    </tr>\n",
       "  </tbody>\n",
       "</table>\n",
       "</div>"
      ],
      "text/plain": [
       "                                          Unnamed: 0          Unnamed: 1  \\\n",
       "0                                         CourseName            Location   \n",
       "1                             Risk Assessment (Pest)     lisbon;Portugal   \n",
       "2                                    Organic Farming            Bristol;   \n",
       "3  Prevention Control and Eradication of Transmis...  Ljubljana;Slovenia   \n",
       "4                               Contingency Planning              Padua;   \n",
       "\n",
       "   Unnamed: 2  Unnamed: 3 Unnamed: 4  Unnamed: 5  Unnamed: 6  \n",
       "0    DateFrom      DateTo  Attendees         NaN         NaN  \n",
       "1  2015-01-12  2015-01-16          1         NaN         NaN  \n",
       "2  2015-01-19  2015-01-22          2         NaN         NaN  \n",
       "3  2015-01-20  2015-01-23          2         NaN         NaN  \n",
       "4  2015-01-26  2015-01-30          2         NaN         NaN  "
      ]
     },
     "execution_count": 3,
     "metadata": {
     },
     "output_type": "execute_result"
    }
   ],
   "source": [
    "# %load ../solutions/05_03.py"
   ]
  },
  {
   "cell_type": "markdown",
   "metadata": {
    "collapsed": false
   },
   "source": [
    "You can see that the header are not at the right place.  \n",
    "If you have a look at the documentation, you will see that the *header* parameter of the read_csv method is set to *infer*. It will usually infer the header using the first row (which has the index *0*)."
   ]
  },
  {
   "cell_type": "markdown",
   "metadata": {
    "collapsed": false
   },
   "source": [
    ">Load the data of the year 2104 using the header paramater and assign it to df_2014 (it will be overwritten)"
   ]
  },
  {
   "cell_type": "code",
   "execution_count": 0,
   "metadata": {
    "collapsed": false
   },
   "outputs": [
   ],
   "source": [
   ]
  },
  {
   "cell_type": "code",
   "execution_count": 4,
   "metadata": {
    "collapsed": false
   },
   "outputs": [
   ],
   "source": [
    "# %load ../solutions/05_04.py"
   ]
  },
  {
   "cell_type": "markdown",
   "metadata": {
    "collapsed": false
   },
   "source": [
    ">Have a look at the first rows of df_2014. Looks better, isn't it?"
   ]
  },
  {
   "cell_type": "code",
   "execution_count": 0,
   "metadata": {
    "collapsed": false
   },
   "outputs": [
   ],
   "source": [
   ]
  },
  {
   "cell_type": "code",
   "execution_count": 5,
   "metadata": {
    "collapsed": false
   },
   "outputs": [
    {
     "data": {
      "text/html": [
       "<div>\n",
       "<style scoped>\n",
       "    .dataframe tbody tr th:only-of-type {\n",
       "        vertical-align: middle;\n",
       "    }\n",
       "\n",
       "    .dataframe tbody tr th {\n",
       "        vertical-align: top;\n",
       "    }\n",
       "\n",
       "    .dataframe thead th {\n",
       "        text-align: right;\n",
       "    }\n",
       "</style>\n",
       "<table border=\"1\" class=\"dataframe\">\n",
       "  <thead>\n",
       "    <tr style=\"text-align: right;\">\n",
       "      <th></th>\n",
       "      <th>CourseName</th>\n",
       "      <th>Location</th>\n",
       "      <th>DateFrom</th>\n",
       "      <th>DateTo</th>\n",
       "      <th>Attendees</th>\n",
       "      <th>Unnamed: 5</th>\n",
       "      <th>Unnamed: 6</th>\n",
       "    </tr>\n",
       "  </thead>\n",
       "  <tbody>\n",
       "    <tr>\n",
       "      <th>0</th>\n",
       "      <td>Risk Assessment (Pest)</td>\n",
       "      <td>lisbon;Portugal</td>\n",
       "      <td>2015-01-12</td>\n",
       "      <td>2015-01-16</td>\n",
       "      <td>1</td>\n",
       "      <td>NaN</td>\n",
       "      <td>NaN</td>\n",
       "    </tr>\n",
       "    <tr>\n",
       "      <th>1</th>\n",
       "      <td>Organic Farming</td>\n",
       "      <td>Bristol;</td>\n",
       "      <td>2015-01-19</td>\n",
       "      <td>2015-01-22</td>\n",
       "      <td>2</td>\n",
       "      <td>NaN</td>\n",
       "      <td>NaN</td>\n",
       "    </tr>\n",
       "    <tr>\n",
       "      <th>2</th>\n",
       "      <td>Prevention Control and Eradication of Transmis...</td>\n",
       "      <td>Ljubljana;Slovenia</td>\n",
       "      <td>2015-01-20</td>\n",
       "      <td>2015-01-23</td>\n",
       "      <td>2</td>\n",
       "      <td>NaN</td>\n",
       "      <td>NaN</td>\n",
       "    </tr>\n",
       "    <tr>\n",
       "      <th>3</th>\n",
       "      <td>Contingency Planning</td>\n",
       "      <td>Padua;</td>\n",
       "      <td>2015-01-26</td>\n",
       "      <td>2015-01-30</td>\n",
       "      <td>2</td>\n",
       "      <td>NaN</td>\n",
       "      <td>NaN</td>\n",
       "    </tr>\n",
       "    <tr>\n",
       "      <th>4</th>\n",
       "      <td>HACCP</td>\n",
       "      <td>Rome;</td>\n",
       "      <td>2015-02-02</td>\n",
       "      <td>2015-02-06</td>\n",
       "      <td>2</td>\n",
       "      <td>NaN</td>\n",
       "      <td>NaN</td>\n",
       "    </tr>\n",
       "  </tbody>\n",
       "</table>\n",
       "</div>"
      ],
      "text/plain": [
       "                                          CourseName            Location  \\\n",
       "0                             Risk Assessment (Pest)     lisbon;Portugal   \n",
       "1                                    Organic Farming            Bristol;   \n",
       "2  Prevention Control and Eradication of Transmis...  Ljubljana;Slovenia   \n",
       "3                               Contingency Planning              Padua;   \n",
       "4                                              HACCP               Rome;   \n",
       "\n",
       "     DateFrom      DateTo  Attendees  Unnamed: 5  Unnamed: 6  \n",
       "0  2015-01-12  2015-01-16          1         NaN         NaN  \n",
       "1  2015-01-19  2015-01-22          2         NaN         NaN  \n",
       "2  2015-01-20  2015-01-23          2         NaN         NaN  \n",
       "3  2015-01-26  2015-01-30          2         NaN         NaN  \n",
       "4  2015-02-02  2015-02-06          2         NaN         NaN  "
      ]
     },
     "execution_count": 5,
     "metadata": {
     },
     "output_type": "execute_result"
    }
   ],
   "source": [
    "# %load ../solutions/05_.py"
   ]
  },
  {
   "cell_type": "markdown",
   "metadata": {
    "collapsed": false
   },
   "source": [
    ">Load the data for the years 2015 and 2016 and assign them to df_2015 and df_2016 (don't forget the parameter!)"
   ]
  },
  {
   "cell_type": "code",
   "execution_count": 0,
   "metadata": {
    "collapsed": false
   },
   "outputs": [
   ],
   "source": [
   ]
  },
  {
   "cell_type": "code",
   "execution_count": 6,
   "metadata": {
    "collapsed": false
   },
   "outputs": [
   ],
   "source": [
    "# %load ../solutions/05_06.py"
   ]
  },
  {
   "cell_type": "markdown",
   "metadata": {
    "collapsed": false
   },
   "source": [
    "## Concatenate\n",
    "Pandas have a good page with documentation about merge, join and concatenation: https://pandas.pydata.org/pandas-docs/stable/user_guide/merging.html"
   ]
  },
  {
   "cell_type": "markdown",
   "metadata": {
    "collapsed": false
   },
   "source": [
    ">Using the documentation, concatenate the 3 dataframe into one, named df"
   ]
  },
  {
   "cell_type": "code",
   "execution_count": 0,
   "metadata": {
    "collapsed": false
   },
   "outputs": [
   ],
   "source": [
   ]
  },
  {
   "cell_type": "code",
   "execution_count": 7,
   "metadata": {
    "collapsed": false
   },
   "outputs": [
   ],
   "source": [
    "# %load ../solutions/05_07.py"
   ]
  },
  {
   "cell_type": "markdown",
   "metadata": {
    "collapsed": false
   },
   "source": [
    ">check the shape of df"
   ]
  },
  {
   "cell_type": "code",
   "execution_count": 0,
   "metadata": {
    "collapsed": false
   },
   "outputs": [
   ],
   "source": [
   ]
  },
  {
   "cell_type": "code",
   "execution_count": 8,
   "metadata": {
    "collapsed": false
   },
   "outputs": [
    {
     "data": {
      "text/plain": [
       "(266, 7)"
      ]
     },
     "execution_count": 8,
     "metadata": {
     },
     "output_type": "execute_result"
    }
   ],
   "source": [
    "# %load ../solutions/05_08.py"
   ]
  },
  {
   "cell_type": "markdown",
   "metadata": {
    "collapsed": false
   },
   "source": [
    ">Look at the indices of df"
   ]
  },
  {
   "cell_type": "code",
   "execution_count": 0,
   "metadata": {
    "collapsed": false
   },
   "outputs": [
   ],
   "source": [
   ]
  },
  {
   "cell_type": "code",
   "execution_count": 15,
   "metadata": {
    "collapsed": false
   },
   "outputs": [
    {
     "data": {
      "text/plain": [
       "RangeIndex(start=0, stop=266, step=1)"
      ]
     },
     "execution_count": 15,
     "metadata": {
     },
     "output_type": "execute_result"
    }
   ],
   "source": [
    "# %load ../solutions/05_09.py"
   ]
  },
  {
   "cell_type": "markdown",
   "metadata": {
    "collapsed": false
   },
   "source": [
    "> Reset the index to have it start at 0 and continue with a step of 1 until the end."
   ]
  },
  {
   "cell_type": "code",
   "execution_count": 12,
   "metadata": {
    "collapsed": false
   },
   "outputs": [
    {
     "data": {
      "text/plain": [
       "RangeIndex(start=0, stop=266, step=1)"
      ]
     },
     "execution_count": 12,
     "metadata": {
     },
     "output_type": "execute_result"
    }
   ],
   "source": [
   ]
  },
  {
   "cell_type": "code",
   "execution_count": 14,
   "metadata": {
    "collapsed": false
   },
   "outputs": [
   ],
   "source": [
    "# %load ../solutions/05_10.py"
   ]
  },
  {
   "cell_type": "markdown",
   "metadata": {
    "collapsed": false
   },
   "source": [
    "## Dropping columns"
   ]
  },
  {
   "cell_type": "markdown",
   "metadata": {
    "collapsed": false
   },
   "source": [
    ">Show the information relative to df's columns"
   ]
  },
  {
   "cell_type": "code",
   "execution_count": 0,
   "metadata": {
    "collapsed": false
   },
   "outputs": [
   ],
   "source": [
   ]
  },
  {
   "cell_type": "code",
   "execution_count": 16,
   "metadata": {
    "collapsed": false
   },
   "outputs": [
    {
     "name": "stdout",
     "output_type": "stream",
     "text": [
      "<class 'pandas.core.frame.DataFrame'>\n",
      "RangeIndex: 266 entries, 0 to 265\n",
      "Data columns (total 7 columns):\n",
      " #   Column      Non-Null Count  Dtype  \n",
      "---  ------      --------------  -----  \n",
      " 0   CourseName  266 non-null    object \n",
      " 1   Location    266 non-null    object \n",
      " 2   DateFrom    266 non-null    object \n",
      " 3   DateTo      266 non-null    object \n",
      " 4   Attendees   266 non-null    int64  \n",
      " 5   Unnamed: 5  0 non-null      float64\n",
      " 6   Unnamed: 6  0 non-null      float64\n",
      "dtypes: float64(2), int64(1), object(4)\n",
      "memory usage: 14.7+ KB\n"
     ]
    }
   ],
   "source": [
    "# %load ../solutions/05_11.py"
   ]
  },
  {
   "cell_type": "markdown",
   "metadata": {
    "collapsed": false
   },
   "source": [
    "We can see that the last two columns are completely empty, so we will drop them."
   ]
  },
  {
   "cell_type": "markdown",
   "metadata": {
    "collapsed": false
   },
   "source": [
    ">Get the help for the drop method (if you prefer, you can search for the documentation on internet)"
   ]
  },
  {
   "cell_type": "code",
   "execution_count": 0,
   "metadata": {
    "collapsed": false
   },
   "outputs": [
   ],
   "source": [
   ]
  },
  {
   "cell_type": "code",
   "execution_count": 18,
   "metadata": {
    "collapsed": false,
    "scrolled": true
   },
   "outputs": [
   ],
   "source": [
    "# %load ../solutions/05_12.py"
   ]
  },
  {
   "cell_type": "markdown",
   "metadata": {
    "collapsed": false
   },
   "source": [
    "You can see that the default value for *axis* is *0*. When it is the case, the method will look at the rows (i.e. *axis 0*) of the dataframe.  \n",
    "In our case, we want to drop columns (i.e. *axis 1*)."
   ]
  },
  {
   "cell_type": "markdown",
   "metadata": {
    "collapsed": false
   },
   "source": [
    ">Drop the last two columns of df  \n",
    ">labels: provide a list with the column's names  \n",
    "Don't forget the axis!"
   ]
  },
  {
   "cell_type": "code",
   "execution_count": 0,
   "metadata": {
    "collapsed": false
   },
   "outputs": [
   ],
   "source": [
   ]
  },
  {
   "cell_type": "code",
   "execution_count": 19,
   "metadata": {
    "collapsed": false
   },
   "outputs": [
   ],
   "source": [
    "# %load ../solutions/05_13.py"
   ]
  },
  {
   "cell_type": "code",
   "execution_count": 21,
   "metadata": {
    "collapsed": false
   },
   "outputs": [
   ],
   "source": [
    "df.head()"
   ]
  },
  {
   "cell_type": "markdown",
   "metadata": {
    "collapsed": false
   },
   "source": [
    "## Strings"
   ]
  },
  {
   "cell_type": "code",
   "execution_count": 0,
   "metadata": {
    "collapsed": false
   },
   "outputs": [
   ],
   "source": [
   ]
  },
  {
   "cell_type": "code",
   "execution_count": 0,
   "metadata": {
    "collapsed": false
   },
   "outputs": [
   ],
   "source": [
    "!!! BLABLA .str"
   ]
  },
  {
   "cell_type": "code",
   "execution_count": 0,
   "metadata": {
    "collapsed": false
   },
   "outputs": [
   ],
   "source": [
   ]
  },
  {
   "cell_type": "markdown",
   "metadata": {
    "collapsed": false
   },
   "source": [
    ">Display the unique values of the Location column"
   ]
  },
  {
   "cell_type": "code",
   "execution_count": 0,
   "metadata": {
    "collapsed": false
   },
   "outputs": [
   ],
   "source": [
   ]
  },
  {
   "cell_type": "code",
   "execution_count": 22,
   "metadata": {
    "collapsed": false
   },
   "outputs": [
    {
     "data": {
      "text/plain": [
       "array(['lisbon;Portugal', 'Bristol;', 'Ljubljana;Slovenia', 'Padua;',\n",
       "       'Rome;', 'Parma;', 'Lisbon;', 'Munich;', 'Murcia;', 'Amsterdam;',\n",
       "       'Venice;', 'Athens;', 'Warsaw;', 'Berlin;', 'Lyon;', 'Antwerp;',\n",
       "       'Graz;', 'Barcelona;', ' Budapest;', 'Madrid;', 'Vilnius;',\n",
       "       'Milan;', 'Budapest;', 'Trim; Ireland ', 'Grange;Ireland', 'Riga;',\n",
       "       'Zagreb;', 'Genoa;', 'Tallinn;', 'Coimbra;', 'Valencia;',\n",
       "       'Bratislava;', 'Felixstowe;', 'Maribor;', ';France', 'Krakow;',\n",
       "       'Prague;', 'Bremen;', 'Rotterdam;', ';Denmark', 'Vienna;',\n",
       "       'Trim;Ireland', 'Marseille', 'Venice/Udine; Italy ',\n",
       "       'Dusseldorf;Germany', 'Maribor;Slovenia', 'Cardiff',\n",
       "       'Brussels/Antwerp;', 'Utrecht;', 'Rome;IT', 'Malaga;', ';UK',\n",
       "       'Valencia;Spain', 'Gothenburg;', ';Italy', 'D?sseldorf;',\n",
       "       'Sofia Bulgaria;', 'London;', 'Budapest;Hungary',\n",
       "       'Lisbon;Portugal', 'Alicante/Murcia;Spain', 'Rome', 'Frankfurt;',\n",
       "       'Brussels;', 'Venice; Italy', 'Tarragona;Spain', 'Krakow;Poland',\n",
       "       'Athens; Greece', 'Madrid;Spain', 'Athens;Greece', ';Spain',\n",
       "       'London ;', 'Antwerp; Belgium', 'Torino', 'Venice/Treviso;',\n",
       "       'Nantes;', 'Dublin;', 'Alicante;Spain', 'Grange ; Ireland',\n",
       "       'Cardiff;UK', 'Treviso;', 'Ljubljana', 'Poland;', 'Ljubljana;',\n",
       "       'Naples;', 'Prague;CZ', 'Antwerp;Belgium', 'lisbon;', 'Turin;',\n",
       "       'Trim;', 'Uppsala;Sweden', 'Dusseldorf;', 'Trim;Ireland ',\n",
       "       'Sofia;BG', 'Rotterdam/Delft;', 'Denmark;', 'Thessaloniki;GR',\n",
       "       'Leipzig;', 'Torino;', 'Ljubljana;SI', 'Venice;IT', 'Seville;',\n",
       "       'Venice;Italy', 'Zagreb/Helsinki;'], dtype=object)"
      ]
     },
     "execution_count": 22,
     "metadata": {
     },
     "output_type": "execute_result"
    }
   ],
   "source": [
    "# %load ../solutions/05_14.py"
   ]
  },
  {
   "cell_type": "markdown",
   "metadata": {
    "collapsed": false
   },
   "source": [
    "You can see that the cities and contries are separated with a semi-column (even if some are missing). We are going to split the *Location* column into two.\n",
    ">Try splitting the ***Location*** column on the semi-column."
   ]
  },
  {
   "cell_type": "code",
   "execution_count": 0,
   "metadata": {
    "collapsed": false
   },
   "outputs": [
   ],
   "source": [
   ]
  },
  {
   "cell_type": "code",
   "execution_count": 23,
   "metadata": {
    "collapsed": false
   },
   "outputs": [
    {
     "data": {
      "text/plain": [
       "0         [lisbon, Portugal]\n",
       "1                [Bristol, ]\n",
       "2      [Ljubljana, Slovenia]\n",
       "3                  [Padua, ]\n",
       "4                   [Rome, ]\n",
       "               ...          \n",
       "261             [Venice, IT]\n",
       "262             [Valencia, ]\n",
       "263           [Bratislava, ]\n",
       "264      [Zagreb/Helsinki, ]\n",
       "265              [Antwerp, ]\n",
       "Name: Location, Length: 266, dtype: object"
      ]
     },
     "execution_count": 23,
     "metadata": {
     },
     "output_type": "execute_result"
    }
   ],
   "source": [
    "# %load ../solutions/05_15.py"
   ]
  },
  {
   "cell_type": "markdown",
   "metadata": {
    "collapsed": false
   },
   "source": [
    "This return a lsit with the items which were before and after the semi-column.  \n",
    ">Try again to split again the ***Location*** column, but expand expand the results this time."
   ]
  },
  {
   "cell_type": "code",
   "execution_count": 0,
   "metadata": {
    "collapsed": false
   },
   "outputs": [
   ],
   "source": [
   ]
  },
  {
   "cell_type": "code",
   "execution_count": 24,
   "metadata": {
    "collapsed": false,
    "scrolled": true
   },
   "outputs": [
    {
     "data": {
      "text/html": [
       "<div>\n",
       "<style scoped>\n",
       "    .dataframe tbody tr th:only-of-type {\n",
       "        vertical-align: middle;\n",
       "    }\n",
       "\n",
       "    .dataframe tbody tr th {\n",
       "        vertical-align: top;\n",
       "    }\n",
       "\n",
       "    .dataframe thead th {\n",
       "        text-align: right;\n",
       "    }\n",
       "</style>\n",
       "<table border=\"1\" class=\"dataframe\">\n",
       "  <thead>\n",
       "    <tr style=\"text-align: right;\">\n",
       "      <th></th>\n",
       "      <th>0</th>\n",
       "      <th>1</th>\n",
       "    </tr>\n",
       "  </thead>\n",
       "  <tbody>\n",
       "    <tr>\n",
       "      <th>0</th>\n",
       "      <td>lisbon</td>\n",
       "      <td>Portugal</td>\n",
       "    </tr>\n",
       "    <tr>\n",
       "      <th>1</th>\n",
       "      <td>Bristol</td>\n",
       "      <td></td>\n",
       "    </tr>\n",
       "    <tr>\n",
       "      <th>2</th>\n",
       "      <td>Ljubljana</td>\n",
       "      <td>Slovenia</td>\n",
       "    </tr>\n",
       "    <tr>\n",
       "      <th>3</th>\n",
       "      <td>Padua</td>\n",
       "      <td></td>\n",
       "    </tr>\n",
       "    <tr>\n",
       "      <th>4</th>\n",
       "      <td>Rome</td>\n",
       "      <td></td>\n",
       "    </tr>\n",
       "    <tr>\n",
       "      <th>...</th>\n",
       "      <td>...</td>\n",
       "      <td>...</td>\n",
       "    </tr>\n",
       "    <tr>\n",
       "      <th>261</th>\n",
       "      <td>Venice</td>\n",
       "      <td>IT</td>\n",
       "    </tr>\n",
       "    <tr>\n",
       "      <th>262</th>\n",
       "      <td>Valencia</td>\n",
       "      <td></td>\n",
       "    </tr>\n",
       "    <tr>\n",
       "      <th>263</th>\n",
       "      <td>Bratislava</td>\n",
       "      <td></td>\n",
       "    </tr>\n",
       "    <tr>\n",
       "      <th>264</th>\n",
       "      <td>Zagreb/Helsinki</td>\n",
       "      <td></td>\n",
       "    </tr>\n",
       "    <tr>\n",
       "      <th>265</th>\n",
       "      <td>Antwerp</td>\n",
       "      <td></td>\n",
       "    </tr>\n",
       "  </tbody>\n",
       "</table>\n",
       "<p>266 rows × 2 columns</p>\n",
       "</div>"
      ],
      "text/plain": [
       "                   0         1\n",
       "0             lisbon  Portugal\n",
       "1            Bristol          \n",
       "2          Ljubljana  Slovenia\n",
       "3              Padua          \n",
       "4               Rome          \n",
       "..               ...       ...\n",
       "261           Venice        IT\n",
       "262         Valencia          \n",
       "263       Bratislava          \n",
       "264  Zagreb/Helsinki          \n",
       "265          Antwerp          \n",
       "\n",
       "[266 rows x 2 columns]"
      ]
     },
     "execution_count": 24,
     "metadata": {
     },
     "output_type": "execute_result"
    }
   ],
   "source": [
    "# %load ../solutions/05_16.py"
   ]
  },
  {
   "cell_type": "markdown",
   "metadata": {
    "collapsed": false
   },
   "source": [
    ">Create a ***city*** and a ***country*** columns using this split."
   ]
  },
  {
   "cell_type": "code",
   "execution_count": 0,
   "metadata": {
    "collapsed": false
   },
   "outputs": [
   ],
   "source": [
   ]
  },
  {
   "cell_type": "code",
   "execution_count": 25,
   "metadata": {
    "collapsed": false
   },
   "outputs": [
   ],
   "source": [
    "# %load ../solutions/05_17.py"
   ]
  },
  {
   "cell_type": "markdown",
   "metadata": {
    "collapsed": false
   },
   "source": [
    ">Drop the Location column\n"
   ]
  },
  {
   "cell_type": "code",
   "execution_count": 0,
   "metadata": {
    "collapsed": false
   },
   "outputs": [
   ],
   "source": [
   ]
  },
  {
   "cell_type": "code",
   "execution_count": 26,
   "metadata": {
    "collapsed": false
   },
   "outputs": [
   ],
   "source": [
    "# %load ../solutions/05_18.py"
   ]
  },
  {
   "cell_type": "code",
   "execution_count": 27,
   "metadata": {
    "collapsed": false
   },
   "outputs": [
    {
     "data": {
      "text/html": [
       "<div>\n",
       "<style scoped>\n",
       "    .dataframe tbody tr th:only-of-type {\n",
       "        vertical-align: middle;\n",
       "    }\n",
       "\n",
       "    .dataframe tbody tr th {\n",
       "        vertical-align: top;\n",
       "    }\n",
       "\n",
       "    .dataframe thead th {\n",
       "        text-align: right;\n",
       "    }\n",
       "</style>\n",
       "<table border=\"1\" class=\"dataframe\">\n",
       "  <thead>\n",
       "    <tr style=\"text-align: right;\">\n",
       "      <th></th>\n",
       "      <th>CourseName</th>\n",
       "      <th>DateFrom</th>\n",
       "      <th>DateTo</th>\n",
       "      <th>Attendees</th>\n",
       "      <th>city</th>\n",
       "      <th>country</th>\n",
       "    </tr>\n",
       "  </thead>\n",
       "  <tbody>\n",
       "    <tr>\n",
       "      <th>0</th>\n",
       "      <td>Risk Assessment (Pest)</td>\n",
       "      <td>2015-01-12</td>\n",
       "      <td>2015-01-16</td>\n",
       "      <td>1</td>\n",
       "      <td>lisbon</td>\n",
       "      <td>Portugal</td>\n",
       "    </tr>\n",
       "    <tr>\n",
       "      <th>1</th>\n",
       "      <td>Organic Farming</td>\n",
       "      <td>2015-01-19</td>\n",
       "      <td>2015-01-22</td>\n",
       "      <td>2</td>\n",
       "      <td>Bristol</td>\n",
       "      <td></td>\n",
       "    </tr>\n",
       "    <tr>\n",
       "      <th>2</th>\n",
       "      <td>Prevention Control and Eradication of Transmis...</td>\n",
       "      <td>2015-01-20</td>\n",
       "      <td>2015-01-23</td>\n",
       "      <td>2</td>\n",
       "      <td>Ljubljana</td>\n",
       "      <td>Slovenia</td>\n",
       "    </tr>\n",
       "    <tr>\n",
       "      <th>3</th>\n",
       "      <td>Contingency Planning</td>\n",
       "      <td>2015-01-26</td>\n",
       "      <td>2015-01-30</td>\n",
       "      <td>2</td>\n",
       "      <td>Padua</td>\n",
       "      <td></td>\n",
       "    </tr>\n",
       "    <tr>\n",
       "      <th>4</th>\n",
       "      <td>HACCP</td>\n",
       "      <td>2015-02-02</td>\n",
       "      <td>2015-02-06</td>\n",
       "      <td>2</td>\n",
       "      <td>Rome</td>\n",
       "      <td></td>\n",
       "    </tr>\n",
       "  </tbody>\n",
       "</table>\n",
       "</div>"
      ],
      "text/plain": [
       "                                          CourseName    DateFrom      DateTo  \\\n",
       "0                             Risk Assessment (Pest)  2015-01-12  2015-01-16   \n",
       "1                                    Organic Farming  2015-01-19  2015-01-22   \n",
       "2  Prevention Control and Eradication of Transmis...  2015-01-20  2015-01-23   \n",
       "3                               Contingency Planning  2015-01-26  2015-01-30   \n",
       "4                                              HACCP  2015-02-02  2015-02-06   \n",
       "\n",
       "   Attendees       city   country  \n",
       "0          1     lisbon  Portugal  \n",
       "1          2    Bristol            \n",
       "2          2  Ljubljana  Slovenia  \n",
       "3          2      Padua            \n",
       "4          2       Rome            "
      ]
     },
     "execution_count": 27,
     "metadata": {
     },
     "output_type": "execute_result"
    }
   ],
   "source": [
    "df.head()"
   ]
  },
  {
   "cell_type": "markdown",
   "metadata": {
    "collapsed": false
   },
   "source": [
    ">Get the count of unique values in the ***country*** column."
   ]
  },
  {
   "cell_type": "code",
   "execution_count": 28,
   "metadata": {
    "collapsed": false
   },
   "outputs": [
   ],
   "source": [
   ]
  },
  {
   "cell_type": "code",
   "execution_count": 29,
   "metadata": {
    "collapsed": false
   },
   "outputs": [
    {
     "data": {
      "text/plain": [
       "             191\n",
       "Ireland       15\n",
       "Spain         10\n",
       "Italy          6\n",
       "IT             5\n",
       "Greece         4\n",
       "UK             4\n",
       "Slovenia       4\n",
       "Portugal       3\n",
       "Belgium        2\n",
       "SI             1\n",
       "BG             1\n",
       " Ireland       1\n",
       " Italy         1\n",
       "France         1\n",
       "Denmark        1\n",
       "GR             1\n",
       "CZ             1\n",
       "Sweden         1\n",
       " Belgium       1\n",
       " Ireland       1\n",
       "Poland         1\n",
       "Hungary        1\n",
       "Ireland        1\n",
       " Italy         1\n",
       "Germany        1\n",
       " Greece        1\n",
       "Name: country, dtype: int64"
      ]
     },
     "execution_count": 29,
     "metadata": {
     },
     "output_type": "execute_result"
    }
   ],
   "source": [
    "# %load ../solutions/05_19.py"
   ]
  },
  {
   "cell_type": "markdown",
   "metadata": {
    "collapsed": false
   },
   "source": [
    ">Check the count of each unique values in the ***country*** column."
   ]
  },
  {
   "cell_type": "code",
   "execution_count": 0,
   "metadata": {
    "collapsed": false
   },
   "outputs": [
   ],
   "source": [
   ]
  },
  {
   "cell_type": "code",
   "execution_count": 0,
   "metadata": {
    "collapsed": false
   },
   "outputs": [
   ],
   "source": [
    "# %load ../solutions/05_20.py"
   ]
  },
  {
   "cell_type": "markdown",
   "metadata": {
    "collapsed": false
   },
   "source": [
    ">Use the strip method to remove the (potential) extra spaces at the beginning and the end of the cities and countries"
   ]
  },
  {
   "cell_type": "code",
   "execution_count": 0,
   "metadata": {
    "collapsed": false
   },
   "outputs": [
   ],
   "source": [
   ]
  },
  {
   "cell_type": "code",
   "execution_count": 0,
   "metadata": {
    "collapsed": false
   },
   "outputs": [
   ],
   "source": [
    "# %load ../solutions/05_21.py"
   ]
  },
  {
   "cell_type": "markdown",
   "metadata": {
    "collapsed": false
   },
   "source": [
    "   >Check again the number of unique values in the country column"
   ]
  },
  {
   "cell_type": "code",
   "execution_count": 0,
   "metadata": {
    "collapsed": false
   },
   "outputs": [
   ],
   "source": [
   ]
  },
  {
   "cell_type": "code",
   "execution_count": 0,
   "metadata": {
    "collapsed": false
   },
   "outputs": [
   ],
   "source": [
    "# %load ../solutions/05_22.py"
   ]
  },
  {
   "cell_type": "markdown",
   "metadata": {
    "collapsed": false
   },
   "source": [
    ">Have a look at the rows where the ***country*** is Portugal.  \n",
    "What do you notice?"
   ]
  },
  {
   "cell_type": "code",
   "execution_count": 0,
   "metadata": {
    "collapsed": false
   },
   "outputs": [
   ],
   "source": [
   ]
  },
  {
   "cell_type": "code",
   "execution_count": 0,
   "metadata": {
    "collapsed": false
   },
   "outputs": [
   ],
   "source": [
    "# %load ../solutions/05_23.py"
   ]
  },
  {
   "cell_type": "markdown",
   "metadata": {
    "collapsed": false
   },
   "source": [
    ">Put the ***city*** column into lower case (don't forget to reafect it to the **city** column)."
   ]
  },
  {
   "cell_type": "code",
   "execution_count": 0,
   "metadata": {
    "collapsed": false
   },
   "outputs": [
   ],
   "source": [
   ]
  },
  {
   "cell_type": "code",
   "execution_count": 0,
   "metadata": {
    "collapsed": false
   },
   "outputs": [
   ],
   "source": [
    "# %load ../solutions/05_24.py"
   ]
  },
  {
   "cell_type": "markdown",
   "metadata": {
    "collapsed": false
   },
   "source": [
    ">Have a look at the rows where the ***city*** contains ***/***"
   ]
  },
  {
   "cell_type": "code",
   "execution_count": 0,
   "metadata": {
    "collapsed": false
   },
   "outputs": [
   ],
   "source": [
   ]
  },
  {
   "cell_type": "code",
   "execution_count": 0,
   "metadata": {
    "collapsed": false
   },
   "outputs": [
   ],
   "source": [
    "# %load ../solutions/05_25.py"
   ]
  },
  {
   "cell_type": "markdown",
   "metadata": {
    "collapsed": false
   },
   "source": [
    "## Map"
   ]
  },
  {
   "cell_type": "code",
   "execution_count": 0,
   "metadata": {
    "collapsed": false
   },
   "outputs": [
   ],
   "source": [
    "df['country'].value_counts()"
   ]
  },
  {
   "cell_type": "markdown",
   "metadata": {
    "collapsed": false
   },
   "source": [
    "We saw that some countries were filled with their contry code, and others with thei name. We are going to move everything to the same format.  \n",
    "We can do that by mapping a dictionary to a column. It will then replace the ***key*** with the corresponding ***value***.  \n",
    ">Complete the code below to replace the country codes with the country name.  \n",
    ">Note that we use a mask as we want to replace only certain values of the series."
   ]
  },
  {
   "cell_type": "code",
   "execution_count": 0,
   "metadata": {
    "collapsed": false
   },
   "outputs": [
   ],
   "source": [
    "dict_countries = {'BG':'Bulgaria', 'CZ':'Czech Republic', 'IT':'Italy', 'GR':'Greece', 'SI':'Slovenia', 'UK':'United Kingdom'}\n",
    "df.loc[df['country'].isin(dict_countries.keys()), 'country'] = "
   ]
  },
  {
   "cell_type": "code",
   "execution_count": 0,
   "metadata": {
    "collapsed": false
   },
   "outputs": [
   ],
   "source": [
    "# %load ../solutions/05_26.py"
   ]
  },
  {
   "cell_type": "code",
   "execution_count": 0,
   "metadata": {
    "collapsed": false
   },
   "outputs": [
   ],
   "source": [
    "df['country'].value_counts()"
   ]
  },
  {
   "cell_type": "markdown",
   "metadata": {
    "collapsed": false
   },
   "source": [
    "## Apply"
   ]
  },
  {
   "cell_type": "markdown",
   "metadata": {
    "collapsed": false
   },
   "source": [
    ">Write a function that returns ***single*** if the value passed is 1, and ***multiple*** otherwise."
   ]
  },
  {
   "cell_type": "code",
   "execution_count": 0,
   "metadata": {
    "collapsed": false
   },
   "outputs": [
   ],
   "source": [
   ]
  },
  {
   "cell_type": "code",
   "execution_count": 60,
   "metadata": {
    "collapsed": false
   },
   "outputs": [
   ],
   "source": [
    "# %load ../solutions/05_27.py"
   ]
  },
  {
   "cell_type": "markdown",
   "metadata": {
    "collapsed": false
   },
   "source": [
    ">Apply this function to the ***Attendees*** column."
   ]
  },
  {
   "cell_type": "code",
   "execution_count": 0,
   "metadata": {
    "collapsed": false
   },
   "outputs": [
   ],
   "source": [
   ]
  },
  {
   "cell_type": "code",
   "execution_count": 61,
   "metadata": {
    "collapsed": false
   },
   "outputs": [
    {
     "data": {
      "text/plain": [
       "0        single\n",
       "1      multiple\n",
       "2      multiple\n",
       "3      multiple\n",
       "4      multiple\n",
       "         ...   \n",
       "261    multiple\n",
       "262    multiple\n",
       "263      single\n",
       "264    multiple\n",
       "265    multiple\n",
       "Name: Attendees, Length: 266, dtype: object"
      ]
     },
     "execution_count": 61,
     "metadata": {
     },
     "output_type": "execute_result"
    }
   ],
   "source": [
    "# %load ../solutions/05_28.py"
   ]
  },
  {
   "cell_type": "markdown",
   "metadata": {
    "collapsed": false
   },
   "source": [
    "## Date time"
   ]
  },
  {
   "cell_type": "markdown",
   "metadata": {
    "collapsed": false
   },
   "source": [
    ">Check the dtype of the ***DateFrom***."
   ]
  },
  {
   "cell_type": "code",
   "execution_count": 0,
   "metadata": {
    "collapsed": false
   },
   "outputs": [
   ],
   "source": [
   ]
  },
  {
   "cell_type": "code",
   "execution_count": 34,
   "metadata": {
    "collapsed": false
   },
   "outputs": [
    {
     "data": {
      "text/plain": [
       "dtype('O')"
      ]
     },
     "execution_count": 34,
     "metadata": {
     },
     "output_type": "execute_result"
    }
   ],
   "source": [
    "# %load ../solutions/05_29.py"
   ]
  },
  {
   "cell_type": "markdown",
   "metadata": {
    "collapsed": false
   },
   "source": [
    "***DateFrom*** and ***DateTo*** are objects.  \n",
    ">Convert these two columns to ***datetime*** format."
   ]
  },
  {
   "cell_type": "code",
   "execution_count": 0,
   "metadata": {
    "collapsed": false
   },
   "outputs": [
   ],
   "source": [
   ]
  },
  {
   "cell_type": "code",
   "execution_count": 39,
   "metadata": {
    "collapsed": false
   },
   "outputs": [
   ],
   "source": [
    "# %load ../solutions/05_30.py"
   ]
  },
  {
   "cell_type": "markdown",
   "metadata": {
    "collapsed": false
   },
   "source": [
    "Note: We could have used the parameter *parse_dates* when loading data.  \n",
    "We can now use these columns to filter or do some calculation.\n",
    ">Display the rows where the training started after the first February 2017."
   ]
  },
  {
   "cell_type": "code",
   "execution_count": 0,
   "metadata": {
    "collapsed": false
   },
   "outputs": [
   ],
   "source": [
   ]
  },
  {
   "cell_type": "code",
   "execution_count": 41,
   "metadata": {
    "collapsed": false
   },
   "outputs": [
    {
     "data": {
      "text/html": [
       "<div>\n",
       "<style scoped>\n",
       "    .dataframe tbody tr th:only-of-type {\n",
       "        vertical-align: middle;\n",
       "    }\n",
       "\n",
       "    .dataframe tbody tr th {\n",
       "        vertical-align: top;\n",
       "    }\n",
       "\n",
       "    .dataframe thead th {\n",
       "        text-align: right;\n",
       "    }\n",
       "</style>\n",
       "<table border=\"1\" class=\"dataframe\">\n",
       "  <thead>\n",
       "    <tr style=\"text-align: right;\">\n",
       "      <th></th>\n",
       "      <th>CourseName</th>\n",
       "      <th>DateFrom</th>\n",
       "      <th>DateTo</th>\n",
       "      <th>Attendees</th>\n",
       "      <th>city</th>\n",
       "      <th>country</th>\n",
       "    </tr>\n",
       "  </thead>\n",
       "  <tbody>\n",
       "    <tr>\n",
       "      <th>258</th>\n",
       "      <td>Food Hygiene and Flexibility</td>\n",
       "      <td>2017-02-06</td>\n",
       "      <td>2017-02-10</td>\n",
       "      <td>1</td>\n",
       "      <td>Barcelona</td>\n",
       "      <td></td>\n",
       "    </tr>\n",
       "    <tr>\n",
       "      <th>259</th>\n",
       "      <td>Auditing Plastic Recycling Processes</td>\n",
       "      <td>2017-02-07</td>\n",
       "      <td>2017-02-10</td>\n",
       "      <td>2</td>\n",
       "      <td>Treviso</td>\n",
       "      <td></td>\n",
       "    </tr>\n",
       "    <tr>\n",
       "      <th>260</th>\n",
       "      <td>CONTROL OF ZOONOSES AND PREVENTION AND MONITOR...</td>\n",
       "      <td>2017-02-13</td>\n",
       "      <td>2017-02-16</td>\n",
       "      <td>1</td>\n",
       "      <td>Venice</td>\n",
       "      <td>Italy</td>\n",
       "    </tr>\n",
       "    <tr>\n",
       "      <th>261</th>\n",
       "      <td>Contingency Planning</td>\n",
       "      <td>2017-03-06</td>\n",
       "      <td>2017-03-10</td>\n",
       "      <td>3</td>\n",
       "      <td>Venice</td>\n",
       "      <td>IT</td>\n",
       "    </tr>\n",
       "    <tr>\n",
       "      <th>262</th>\n",
       "      <td>Audit B1 - Standard Level</td>\n",
       "      <td>2017-03-06</td>\n",
       "      <td>2017-03-10</td>\n",
       "      <td>2</td>\n",
       "      <td>Valencia</td>\n",
       "      <td></td>\n",
       "    </tr>\n",
       "    <tr>\n",
       "      <th>263</th>\n",
       "      <td>Audit A</td>\n",
       "      <td>2017-03-20</td>\n",
       "      <td>2017-03-24</td>\n",
       "      <td>1</td>\n",
       "      <td>Bratislava</td>\n",
       "      <td></td>\n",
       "    </tr>\n",
       "    <tr>\n",
       "      <th>264</th>\n",
       "      <td>Food Hygiene and Flexibility</td>\n",
       "      <td>2017-03-20</td>\n",
       "      <td>2017-03-24</td>\n",
       "      <td>2</td>\n",
       "      <td>Zagreb/Helsinki</td>\n",
       "      <td></td>\n",
       "    </tr>\n",
       "    <tr>\n",
       "      <th>265</th>\n",
       "      <td>Animal Health and Disease Prevention for Bees ...</td>\n",
       "      <td>2017-03-28</td>\n",
       "      <td>2017-03-31</td>\n",
       "      <td>2</td>\n",
       "      <td>Antwerp</td>\n",
       "      <td></td>\n",
       "    </tr>\n",
       "  </tbody>\n",
       "</table>\n",
       "</div>"
      ],
      "text/plain": [
       "                                            CourseName   DateFrom     DateTo  \\\n",
       "258                       Food Hygiene and Flexibility 2017-02-06 2017-02-10   \n",
       "259               Auditing Plastic Recycling Processes 2017-02-07 2017-02-10   \n",
       "260  CONTROL OF ZOONOSES AND PREVENTION AND MONITOR... 2017-02-13 2017-02-16   \n",
       "261                               Contingency Planning 2017-03-06 2017-03-10   \n",
       "262                          Audit B1 - Standard Level 2017-03-06 2017-03-10   \n",
       "263                                            Audit A 2017-03-20 2017-03-24   \n",
       "264                       Food Hygiene and Flexibility 2017-03-20 2017-03-24   \n",
       "265  Animal Health and Disease Prevention for Bees ... 2017-03-28 2017-03-31   \n",
       "\n",
       "     Attendees             city country  \n",
       "258          1        Barcelona          \n",
       "259          2          Treviso          \n",
       "260          1           Venice   Italy  \n",
       "261          3           Venice      IT  \n",
       "262          2         Valencia          \n",
       "263          1       Bratislava          \n",
       "264          2  Zagreb/Helsinki          \n",
       "265          2          Antwerp          "
      ]
     },
     "execution_count": 41,
     "metadata": {
     },
     "output_type": "execute_result"
    }
   ],
   "source": [
    "# %load ../solutions/05_31.py"
   ]
  },
  {
   "cell_type": "markdown",
   "metadata": {
    "collapsed": false
   },
   "source": [
    ">Create a ***duration*** column with the duration of the training."
   ]
  },
  {
   "cell_type": "code",
   "execution_count": 50,
   "metadata": {
    "collapsed": false
   },
   "outputs": [
   ],
   "source": [
   ]
  },
  {
   "cell_type": "code",
   "execution_count": 51,
   "metadata": {
    "collapsed": false
   },
   "outputs": [
   ],
   "source": [
    "# %load ../solutions/05_32.py"
   ]
  },
  {
   "cell_type": "markdown",
   "metadata": {
    "collapsed": false
   },
   "source": [
    ">Create a ***month*** column indicating which month the training started.  \n",
    ">Plot an histogram of the ***month*** column."
   ]
  },
  {
   "cell_type": "code",
   "execution_count": 54,
   "metadata": {
    "collapsed": false
   },
   "outputs": [
   ],
   "source": [
   ]
  },
  {
   "cell_type": "code",
   "execution_count": 55,
   "metadata": {
    "collapsed": false
   },
   "outputs": [
    {
     "data": {
      "text/plain": [
       "<matplotlib.axes._subplots.AxesSubplot at 0x7f20a3271080>"
      ]
     },
     "execution_count": 55,
     "metadata": {
     },
     "output_type": "execute_result"
    },
    {
     "data": {
      "image/png": "[encoded data removed]",
      "text/plain": [
       "<Figure size 432x288 with 1 Axes>"
      ]
     },
     "execution_count": 55,
     "metadata": {
      "image/png": {
       "height": 248,
       "width": 369
      },
      "needs_background": "light"
     },
     "output_type": "execute_result"
    }
   ],
   "source": [
    "# %load ../solutions/05_33.py"
   ]
  },
  {
   "cell_type": "markdown",
   "metadata": {
    "collapsed": false
   },
   "source": [
    "## Sorting values"
   ]
  },
  {
   "cell_type": "markdown",
   "metadata": {
    "collapsed": false
   },
   "source": [
    ">Sort df in alphabetical order of ***cities***."
   ]
  },
  {
   "cell_type": "code",
   "execution_count": 0,
   "metadata": {
    "collapsed": false
   },
   "outputs": [
   ],
   "source": [
   ]
  },
  {
   "cell_type": "code",
   "execution_count": 68,
   "metadata": {
    "collapsed": false
   },
   "outputs": [
   ],
   "source": [
    "# %load ../solutions/05_34.py"
   ]
  },
  {
   "cell_type": "markdown",
   "metadata": {
    "collapsed": false
   },
   "source": [
    ">Sort df by ascending ***duration*** and descending number of ***Attendees***."
   ]
  },
  {
   "cell_type": "code",
   "execution_count": 65,
   "metadata": {
    "collapsed": false
   },
   "outputs": [
   ],
   "source": [
   ]
  },
  {
   "cell_type": "code",
   "execution_count": 70,
   "metadata": {
    "collapsed": false
   },
   "outputs": [
   ],
   "source": [
    "# %load ../solutions/05_35.py"
   ]
  },
  {
   "cell_type": "markdown",
   "metadata": {
    "collapsed": false
   },
   "source": [
    "We can see that there was a couple of issues with dates data entry..."
   ]
  },
  {
   "cell_type": "markdown",
   "metadata": {
    "collapsed": false
   },
   "source": [
    "## Group By"
   ]
  },
  {
   "cell_type": "markdown",
   "metadata": {
    "collapsed": false
   },
   "source": [
    ">Group by ***city***."
   ]
  },
  {
   "cell_type": "code",
   "execution_count": 0,
   "metadata": {
    "collapsed": false
   },
   "outputs": [
   ],
   "source": [
   ]
  },
  {
   "cell_type": "code",
   "execution_count": 75,
   "metadata": {
    "collapsed": false
   },
   "outputs": [
   ],
   "source": [
    "# %load ../solutions/05_36.py"
   ]
  },
  {
   "cell_type": "markdown",
   "metadata": {
    "collapsed": false
   },
   "source": [
    ">Get the mean number of ***Attendees*** for the grouped data."
   ]
  },
  {
   "cell_type": "code",
   "execution_count": 0,
   "metadata": {
    "collapsed": false
   },
   "outputs": [
   ],
   "source": [
   ]
  },
  {
   "cell_type": "code",
   "execution_count": 81,
   "metadata": {
    "collapsed": false
   },
   "outputs": [
    {
     "data": {
      "text/plain": [
       "city\n",
       "                   1.454545\n",
       " budapest          1.000000\n",
       "alicante           1.000000\n",
       "alicante/murcia    1.000000\n",
       "amsterdam          1.666667\n",
       "                     ...   \n",
       "vienna             2.750000\n",
       "vilnius            2.000000\n",
       "warsaw             2.000000\n",
       "zagreb             1.000000\n",
       "zagreb/helsinki    2.000000\n",
       "Name: Attendees, Length: 73, dtype: float64"
      ]
     },
     "execution_count": 81,
     "metadata": {
     },
     "output_type": "execute_result"
    }
   ],
   "source": [
    "# %load ../solutions/05_37.py"
   ]
  },
  {
   "cell_type": "code",
   "execution_count": 0,
   "metadata": {
    "collapsed": false
   },
   "outputs": [
   ],
   "source": [
   ]
  },
  {
   "cell_type": "code",
   "execution_count": 0,
   "metadata": {
    "collapsed": false
   },
   "outputs": [
   ],
   "source": [
   ]
  },
  {
   "cell_type": "code",
   "execution_count": 0,
   "metadata": {
    "collapsed": false
   },
   "outputs": [
   ],
   "source": [
   ]
  },
  {
   "cell_type": "code",
   "execution_count": 0,
   "metadata": {
    "collapsed": false
   },
   "outputs": [
   ],
   "source": [
   ]
  }
 ],
 "metadata": {
  "kernelspec": {
   "display_name": "Python 3 (system-wide)",
   "language": "python",
   "metadata": {
    "cocalc": {
     "description": "Python 3 programming language",
     "priority": 100,
     "url": "https://www.python.org/"
    }
   },
   "name": "python3"
  },
  "language_info": {
   "codemirror_mode": {
    "name": "ipython",
    "version": 3
   },
   "file_extension": ".py",
   "mimetype": "text/x-python",
   "name": "python",
   "nbconvert_exporter": "python",
   "pygments_lexer": "ipython3",
   "version": "3.6.9"
  }
 },
 "nbformat": 4,
 "nbformat_minor": 4
}